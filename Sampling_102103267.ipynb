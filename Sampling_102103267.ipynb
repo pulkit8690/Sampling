{
  "nbformat": 4,
  "nbformat_minor": 0,
  "metadata": {
    "colab": {
      "private_outputs": true,
      "provenance": [],
      "authorship_tag": "ABX9TyOqtuM7D8CQFRYnv5BdsG8l",
      "include_colab_link": true
    },
    "kernelspec": {
      "name": "python3",
      "display_name": "Python 3"
    },
    "language_info": {
      "name": "python"
    },
    "accelerator": "TPU"
  },
  "cells": [
    {
      "cell_type": "markdown",
      "metadata": {
        "id": "view-in-github",
        "colab_type": "text"
      },
      "source": [
        "<a href=\"https://colab.research.google.com/github/pulkit8690/Sampling/blob/main/Sampling_102103267.ipynb\" target=\"_parent\"><img src=\"https://colab.research.google.com/assets/colab-badge.svg\" alt=\"Open In Colab\"/></a>"
      ]
    },
    {
      "cell_type": "code",
      "execution_count": null,
      "metadata": {
        "id": "qwA9JOTFE_3U"
      },
      "outputs": [],
      "source": [
        "import numpy as np\n",
        "import pandas as pd\n",
        "import matplotlib.pyplot as plt\n",
        "import seaborn as sns\n",
        "%matplotlib inline"
      ]
    },
    {
      "cell_type": "code",
      "source": [
        "from imblearn.over_sampling import RandomOverSampler\n",
        "from sklearn.model_selection import train_test_split\n",
        "from sklearn.linear_model import LogisticRegression\n",
        "from sklearn.tree import DecisionTreeClassifier\n",
        "from sklearn.ensemble import RandomForestClassifier\n",
        "from sklearn.neighbors import KNeighborsClassifier\n",
        "from sklearn.naive_bayes import GaussianNB\n",
        "from sklearn.preprocessing import MinMaxScaler,StandardScaler\n",
        "from sklearn.metrics import accuracy_score"
      ],
      "metadata": {
        "id": "gBKqq8RUFUa3"
      },
      "execution_count": null,
      "outputs": []
    },
    {
      "cell_type": "code",
      "source": [
        "url = \"https://raw.githubusercontent.com/AnjulaMehto/Sampling_Assignment/main/Creditcard_data.csv\"\n",
        "df = pd.read_csv(url)"
      ],
      "metadata": {
        "id": "baoz_BJ0FR-V"
      },
      "execution_count": null,
      "outputs": []
    },
    {
      "cell_type": "code",
      "source": [
        "df.head()"
      ],
      "metadata": {
        "id": "t5Pm-_zpFVSY"
      },
      "execution_count": null,
      "outputs": []
    },
    {
      "cell_type": "code",
      "source": [
        "df.info()"
      ],
      "metadata": {
        "id": "HayIZSxbFZcm"
      },
      "execution_count": null,
      "outputs": []
    },
    {
      "cell_type": "code",
      "source": [
        "df.describe()"
      ],
      "metadata": {
        "id": "PIsFR9tlFbu-"
      },
      "execution_count": null,
      "outputs": []
    },
    {
      "cell_type": "code",
      "source": [
        "sns.countplot(data= df, x= 'Class')"
      ],
      "metadata": {
        "id": "IXYW7DpqFe8g"
      },
      "execution_count": null,
      "outputs": []
    },
    {
      "cell_type": "code",
      "source": [
        "df['Class'].value_counts()"
      ],
      "metadata": {
        "id": "aXv2hQe-Fi4L"
      },
      "execution_count": null,
      "outputs": []
    },
    {
      "cell_type": "code",
      "source": [
        "X= df.drop('Class',axis=1)\n",
        "y= df['Class']\n",
        "\n",
        "ros= RandomOverSampler(random_state=42)\n",
        "\n",
        "X_resampled, y_resampled= ros.fit_resample(X,y)\n",
        "\n",
        "resampled_df= pd.concat([pd.DataFrame(X_resampled,columns= X.columns), pd.Series(y_resampled,name= 'Class')], axis=1)\n",
        "\n",
        "sns.countplot(data= resampled_df, x= 'Class')"
      ],
      "metadata": {
        "id": "MZw4DXZUFk4Z"
      },
      "execution_count": null,
      "outputs": []
    },
    {
      "cell_type": "code",
      "source": [],
      "metadata": {
        "id": "hYRpgUISFnbH"
      },
      "execution_count": null,
      "outputs": []
    },
    {
      "cell_type": "code",
      "source": [
        "resampled_df['Class'].value_counts()"
      ],
      "metadata": {
        "id": "WvfHI9-GFnRB"
      },
      "execution_count": null,
      "outputs": []
    },
    {
      "cell_type": "code",
      "source": [
        "z= 1.96\n",
        "p= 0.5\n",
        "E= 0.05"
      ],
      "metadata": {
        "id": "yvX8W4lKFqf_"
      },
      "execution_count": null,
      "outputs": []
    },
    {
      "cell_type": "code",
      "source": [
        "sample_size= int(np.round((z**2 * p * (1-p)) / (E**2)))\n",
        "sample_size"
      ],
      "metadata": {
        "id": "4iRthvaxFsxi"
      },
      "execution_count": null,
      "outputs": []
    },
    {
      "cell_type": "code",
      "source": [
        "random_sample= resampled_df.sample(n= sample_size, replace= False).reset_index(drop= True)"
      ],
      "metadata": {
        "id": "PS7GVsinFwC8"
      },
      "execution_count": null,
      "outputs": []
    },
    {
      "cell_type": "code",
      "source": [
        "random_sample.head()"
      ],
      "metadata": {
        "id": "v8cL1U-kFx5X"
      },
      "execution_count": null,
      "outputs": []
    },
    {
      "cell_type": "code",
      "source": [
        "k= 5\n",
        "sample_size= len(resampled_df)//k\n",
        "sample_size"
      ],
      "metadata": {
        "id": "-s_FaueiF0zV"
      },
      "execution_count": null,
      "outputs": []
    },
    {
      "cell_type": "code",
      "source": [
        "indices= np.arange(0,len(resampled_df),k)[:sample_size]\n",
        "systematic_sample= resampled_df.loc[indices].reset_index(drop= True)"
      ],
      "metadata": {
        "id": "LqfoWa_wF6OB"
      },
      "execution_count": null,
      "outputs": []
    },
    {
      "cell_type": "code",
      "source": [
        "z= 1.96\n",
        "p= 0.7\n",
        "E= 0.01\n",
        "S= 2"
      ],
      "metadata": {
        "id": "FCnaw4gYF8g9"
      },
      "execution_count": null,
      "outputs": []
    },
    {
      "cell_type": "code",
      "source": [
        "sample_size= int(np.round((z**2 * p * (1-p)) / (E/S)**2))\n",
        "sample_size"
      ],
      "metadata": {
        "id": "rTWa-5yeF-3A"
      },
      "execution_count": null,
      "outputs": []
    },
    {
      "cell_type": "code",
      "source": [
        "len(resampled_df)"
      ],
      "metadata": {
        "id": "1SPsaaeQGAow"
      },
      "execution_count": null,
      "outputs": []
    },
    {
      "cell_type": "code",
      "source": [
        "stratified_sample= resampled_df.groupby(by= 'Class', group_keys= False).apply(lambda x: x.sample(n= sample_size//2, replace= True)).reset_index(drop= True)"
      ],
      "metadata": {
        "id": "2sFsxVvTGDBw"
      },
      "execution_count": null,
      "outputs": []
    },
    {
      "cell_type": "code",
      "source": [
        "stratified_sample.head()"
      ],
      "metadata": {
        "id": "BCAe0yP4GGJ5"
      },
      "execution_count": null,
      "outputs": []
    },
    {
      "cell_type": "code",
      "source": [
        "train_stratified_sample, test_stratified_sample= train_test_split(resampled_df, test_size= 0.3, stratify= resampled_df['Class'])"
      ],
      "metadata": {
        "id": "j9VwIA0zGJbr"
      },
      "execution_count": null,
      "outputs": []
    },
    {
      "cell_type": "code",
      "source": [
        "train_stratified_sample= train_stratified_sample.reset_index(drop= True)\n",
        "test_stratified_sample= test_stratified_sample.reset_index(drop= True)"
      ],
      "metadata": {
        "id": "Dl83AAUyGL_X"
      },
      "execution_count": null,
      "outputs": []
    },
    {
      "cell_type": "code",
      "source": [
        "train_stratified_sample"
      ],
      "metadata": {
        "id": "HQMKGV6zGOQj"
      },
      "execution_count": null,
      "outputs": []
    },
    {
      "cell_type": "code",
      "source": [
        "test_stratified_sample"
      ],
      "metadata": {
        "id": "mjnbxLB1GQeI"
      },
      "execution_count": null,
      "outputs": []
    },
    {
      "cell_type": "code",
      "source": [
        "X_test= test_stratified_sample.drop('Class',axis=1)\n",
        "y_test= test_stratified_sample['Class']"
      ],
      "metadata": {
        "id": "0uVW1YSMGSa9"
      },
      "execution_count": null,
      "outputs": []
    },
    {
      "cell_type": "code",
      "source": [
        "z= 1.96\n",
        "p= 0.5\n",
        "E= 0.05\n",
        "C= 50"
      ],
      "metadata": {
        "id": "FD1EipSnGUfB"
      },
      "execution_count": null,
      "outputs": []
    },
    {
      "cell_type": "code",
      "source": [
        "sample_size= int(np.round((z**2 * p * (1-p)) / (E/C)**2))\n",
        "sample_size"
      ],
      "metadata": {
        "id": "DqAHebroGWxj"
      },
      "execution_count": null,
      "outputs": []
    },
    {
      "cell_type": "code",
      "source": [
        "clusters= [0,1]\n",
        "sample_size= 500\n",
        "cluster_sample= pd.DataFrame()\n",
        "\n",
        "for cluster in clusters:\n",
        "    cluster_df= resampled_df[resampled_df['Class']==cluster]\n",
        "    sample= cluster_df.sample(n= sample_size)\n",
        "    cluster_sample= pd.concat([cluster_sample,sample])"
      ],
      "metadata": {
        "id": "edd85BYxGZON"
      },
      "execution_count": null,
      "outputs": []
    },
    {
      "cell_type": "code",
      "source": [
        "cluster_sample= cluster_sample.reset_index(drop= True)"
      ],
      "metadata": {
        "id": "q9le-HjRGbkt"
      },
      "execution_count": null,
      "outputs": []
    },
    {
      "cell_type": "code",
      "source": [
        "cluster_sample"
      ],
      "metadata": {
        "id": "y4FtNMBlGds-"
      },
      "execution_count": null,
      "outputs": []
    },
    {
      "cell_type": "code",
      "source": [
        "num_bootstrap_samples = 1\n",
        "\n",
        "for _ in range(num_bootstrap_samples):\n",
        "    bootstrap_sample = resampled_df.sample(n=len(resampled_df), replace=True)"
      ],
      "metadata": {
        "id": "ZWS3taXYGgyi"
      },
      "execution_count": null,
      "outputs": []
    },
    {
      "cell_type": "code",
      "source": [
        "bootstrap_sample= bootstrap_sample.reset_index(drop= True)"
      ],
      "metadata": {
        "id": "-AMaFUYFGi3R"
      },
      "execution_count": null,
      "outputs": []
    },
    {
      "cell_type": "code",
      "source": [
        "bootstrap_sample"
      ],
      "metadata": {
        "id": "3wGr4awPGqM1"
      },
      "execution_count": null,
      "outputs": []
    },
    {
      "cell_type": "code",
      "source": [
        "lr_model= LogisticRegression(max_iter= 10000, solver= 'sag')\n",
        "knn_model= KNeighborsClassifier(n_neighbors= 3)\n",
        "rf_model= RandomForestClassifier()\n",
        "dt_model= DecisionTreeClassifier()\n",
        "nb_model= GaussianNB()"
      ],
      "metadata": {
        "id": "sIYIdouFGtEL"
      },
      "execution_count": null,
      "outputs": []
    },
    {
      "cell_type": "code",
      "source": [
        "models= [lr_model,knn_model,rf_model,dt_model,nb_model]\n",
        "model_names= ['Logistic Regression','KNN','Random Forest','Decision Tree','Naive Bayes']"
      ],
      "metadata": {
        "id": "FrOWFl41GvZW"
      },
      "execution_count": null,
      "outputs": []
    },
    {
      "cell_type": "code",
      "source": [
        "samples= [random_sample, systematic_sample, train_stratified_sample, cluster_sample, bootstrap_sample]\n",
        "sample_names= ['Simple Random Sample', 'Systematic Sample', 'Stratified Sample', 'Cluster Sample', 'Bootstrap Sample']"
      ],
      "metadata": {
        "id": "YoIyVYt8GyL9"
      },
      "execution_count": null,
      "outputs": []
    },
    {
      "cell_type": "code",
      "source": [
        "test_samples= []"
      ],
      "metadata": {
        "id": "0l65XQ_KG0FE"
      },
      "execution_count": null,
      "outputs": []
    },
    {
      "cell_type": "code",
      "source": [
        "for sample in samples:\n",
        "    scaler= StandardScaler()\n",
        "    X_train= scaler.fit_transform(sample.drop('Class',axis=1))\n",
        "    X_train= pd.DataFrame(X_train, columns= df.columns[:-1])\n",
        "    sample= pd.concat([X_train,sample['Class']],axis=1)\n",
        "    X_test= scaler.fit_transform(X_test)\n",
        "    X_test= pd.DataFrame(X_test, columns= df.columns[:-1])\n",
        "    test_samples.append(X_test)"
      ],
      "metadata": {
        "id": "BRt1nBnlG155"
      },
      "execution_count": null,
      "outputs": []
    },
    {
      "cell_type": "code",
      "source": [
        "accuracy_table= pd.DataFrame(index= model_names, columns= sample_names)\n",
        "\n",
        "for i,model in enumerate(models):\n",
        "    for j,sample in enumerate(samples):\n",
        "        model.fit(sample.drop('Class',axis=1), sample['Class'])\n",
        "        pred= model.predict(test_samples[j])\n",
        "        accuracy_table.loc[model_names[i], sample_names[j]]= accuracy_score(y_test, pred)"
      ],
      "metadata": {
        "id": "QAvlXkGHG4BU"
      },
      "execution_count": null,
      "outputs": []
    },
    {
      "cell_type": "code",
      "source": [
        "accuracy_table"
      ],
      "metadata": {
        "id": "srGygfjsG6Ic"
      },
      "execution_count": null,
      "outputs": []
    },
    {
      "cell_type": "code",
      "source": [
        "accuracy_table.to_csv('/content/accuracy_table.csv', index=True)"
      ],
      "metadata": {
        "id": "xmDYZIAwH0ms"
      },
      "execution_count": null,
      "outputs": []
    }
  ]
}